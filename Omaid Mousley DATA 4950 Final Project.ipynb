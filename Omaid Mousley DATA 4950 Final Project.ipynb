{
 "cells": [
  {
   "cell_type": "code",
   "execution_count": 1,
   "id": "1bb3ea16",
   "metadata": {},
   "outputs": [
    {
     "name": "stderr",
     "output_type": "stream",
     "text": [
      "C:\\Users\\Omaid\\AppData\\Local\\Temp\\ipykernel_35384\\592581277.py:23: LangChainDeprecationWarning: The class `LLMChain` was deprecated in LangChain 0.1.17 and will be removed in 1.0. Use :meth:`~RunnableSequence, e.g., `prompt | llm`` instead.\n",
      "  chain = LLMChain(llm=llm, prompt=prompt_template)\n"
     ]
    },
    {
     "name": "stdout",
     "output_type": "stream",
     "text": [
      "* Running on local URL:  http://127.0.0.1:7867\n",
      "\n",
      "To create a public link, set `share=True` in `launch()`.\n"
     ]
    },
    {
     "data": {
      "text/html": [
       "<div><iframe src=\"http://127.0.0.1:7867/\" width=\"100%\" height=\"500\" allow=\"autoplay; camera; microphone; clipboard-read; clipboard-write;\" frameborder=\"0\" allowfullscreen></iframe></div>"
      ],
      "text/plain": [
       "<IPython.core.display.HTML object>"
      ]
     },
     "metadata": {},
     "output_type": "display_data"
    },
    {
     "data": {
      "text/plain": []
     },
     "execution_count": 1,
     "metadata": {},
     "output_type": "execute_result"
    }
   ],
   "source": [
    "import fitz\n",
    "from langchain.chains import LLMChain\n",
    "from langchain.prompts import PromptTemplate\n",
    "from langchain.llms import GPT4All\n",
    "import gradio as gr\n",
    "\n",
    "\n",
    "# Initialize GPT model\n",
    "def load_gpt4all_model(model_path=r\"C:\\Users\\Omaid\\AppData\\Local\\nomic.ai\\GPT4All\\Meta-Llama-3-8B-Instruct.Q4_0.gguf\"):\n",
    "    return GPT4All(model=model_path, verbose=False)\n",
    "\n",
    "llm = load_gpt4all_model()\n",
    "\n",
    "\n",
    "# Prompt template\n",
    "prompt_template = PromptTemplate(\n",
    "    input_variables=[\"text\"],\n",
    "    template=\"Summarize the following text:\\n\\n{text}\\n\\nSummary:\",\n",
    ")\n",
    "\n",
    "\n",
    "# LangChain\n",
    "chain = LLMChain(llm=llm, prompt=prompt_template)\n",
    "\n",
    "\n",
    "# Extract text from PDF\n",
    "def extractPDF(pdf, maxPages=5):\n",
    "    textContent = \"\"\n",
    "    try:\n",
    "        doc = fitz.open(pdf)\n",
    "        for i in range(min(maxPages, len(doc))):\n",
    "            page = doc.load_page(i)\n",
    "            textContent += page.get_text() or \"\"\n",
    "    except Exception as e:\n",
    "        return f\"Error reading PDF: {e}\"\n",
    "    return textContent.strip() or \"No extractable text found in PDF.\"\n",
    "\n",
    "\n",
    "# Summarize text\n",
    "def summarize_text(fullText, chunkSize=1000):\n",
    "    if len(fullText) <= chunkSize:\n",
    "        return chain.run({\"text\": fullText})\n",
    "    \n",
    "    # Make text chunks\n",
    "    chunks = [fullText[i:i + chunkSize] for i in range(0, len(fullText), chunkSize)]\n",
    "    summaries = [chain.run({\"text\": chunk}) for chunk in chunks]\n",
    "    return \" \".join(summaries)\n",
    "\n",
    "\n",
    "# Gradio\n",
    "def generateSummary(input_text, pdf):\n",
    "    if pdf is not None:\n",
    "        # Extract and summarize text from PDF\n",
    "        textContent = extractPDF(pdf)\n",
    "        if textContent:\n",
    "            return summarize_text(textContent)\n",
    "        else:\n",
    "            return \"No text could be extracted from the PDF.\"\n",
    "    elif input_text:\n",
    "        # Summarize direct input text\n",
    "        return summarize_text(input_text)\n",
    "    else:\n",
    "        return \"Please provide input text or upload a PDF file.\"\n",
    "\n",
    "    \n",
    "# Set up interface\n",
    "interface = gr.Interface(\n",
    "    fn=generateSummary,\n",
    "    inputs=[\n",
    "        gr.Textbox(lines=10, label=\"Input text (Leave blank if uploading PDF)\"),\n",
    "        gr.File(label=\"Upload PDF file\"),\n",
    "    ],\n",
    "    outputs=gr.Textbox(label=\"Summary\", lines=15),\n",
    "    title=\"PDF & Text Summarizer\",\n",
    "    description=\"Summarize text from an uploaded PDF or inputted text\",\n",
    ")\n",
    "\n",
    "\n",
    "# Launch\n",
    "interface.launch()"
   ]
  },
  {
   "cell_type": "code",
   "execution_count": null,
   "id": "bf383dce",
   "metadata": {},
   "outputs": [],
   "source": []
  }
 ],
 "metadata": {
  "kernelspec": {
   "display_name": "Python 3 (ipykernel)",
   "language": "python",
   "name": "python3"
  },
  "language_info": {
   "codemirror_mode": {
    "name": "ipython",
    "version": 3
   },
   "file_extension": ".py",
   "mimetype": "text/x-python",
   "name": "python",
   "nbconvert_exporter": "python",
   "pygments_lexer": "ipython3",
   "version": "3.10.14"
  }
 },
 "nbformat": 4,
 "nbformat_minor": 5
}
